{
 "cells": [
  {
   "cell_type": "markdown",
   "metadata": {},
   "source": [
    "## Tarea 1 Primera Parte\n",
    "### Seminario de Estadística \n",
    "Debera entregar su tarea en este notebook (prohibido usar R).\n",
    "\n"
   ]
  },
  {
   "cell_type": "markdown",
   "metadata": {},
   "source": [
    "1.- Ajuste un modelo de regresión multiple para los datos de crimen, explique. \n",
    "\n",
    "1. ¿Qué observaba acerca de los coeficientes obtenidos?\n",
    "2. ¿Cuantos posibles submodelos puede ajustar? \n",
    "3. Considerando una sola covariable. ¿ Cuál es el mejor submodelo sin considerar la propiedad de consistencia del estimador que minimiza la función de Riesgo $A(f,\\hat{f})$. Grafique el modelo regresión con los datos experimentales.\n",
    "4. Use el criterio de información Bayesiana para seleccionar el mejor submodelo.   \n",
    "5. Ahora considerando todas las covariables reduzca al mejor submodelo."
   ]
  },
  {
   "cell_type": "markdown",
   "metadata": {},
   "source": [
    "2.- Conectese por FTP al servidor que se les proporciono y suba un archivo sunombre.txt al directorio /temp/clase. El contenido del .txt debera indicar su nombre y numero de cuenta. El servidor se apertura el domingo y es el único día para subir su archivo"
   ]
  },
  {
   "cell_type": "markdown",
   "metadata": {},
   "source": [
    "3.- Asuma un modelo de regresión lineal con errores normales y $\\sigma$ conocida. Mostrar que el modelo con AIC mas grande es el modelo con $C_p$ Mallows más pequeño."
   ]
  },
  {
   "cell_type": "markdown",
   "metadata": {},
   "source": [
    "4.- Con los datos del creditos, obtenga el performance del modelo. Obtenga el error de entrenamiento y de prueba, con una muestra de entrenamiento training_sample=60,70,80,90.\n"
   ]
  },
  {
   "cell_type": "markdown",
   "metadata": {},
   "source": [
    "5.- Con mismos datos halle el mejor modelo usando:\n",
    "1. Validacion cruzada, 10-kfolds cross validation.\n",
    "2. Leave-one-out cross-validation"
   ]
  }
 ],
 "metadata": {
  "kernelspec": {
   "display_name": "Python 3",
   "language": "python",
   "name": "python3"
  },
  "language_info": {
   "codemirror_mode": {
    "name": "ipython",
    "version": 3
   },
   "file_extension": ".py",
   "mimetype": "text/x-python",
   "name": "python",
   "nbconvert_exporter": "python",
   "pygments_lexer": "ipython3",
   "version": "3.6.4"
  }
 },
 "nbformat": 4,
 "nbformat_minor": 2
}
