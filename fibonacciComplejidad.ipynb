{
 "cells": [
  {
   "cell_type": "markdown",
   "metadata": {},
   "source": [
    "### Complejidad"
   ]
  },
  {
   "cell_type": "markdown",
   "metadata": {},
   "source": [
    "#### Notación O(n) (asymptotic upper bound)\n",
    "Definicion. \n",
    "$$\n",
    "O(g(n))=\\{ \\text{Si existe constantes positivas } c \\text{ y } n_0 \\text{ tales que } 0\\leq f(n)\\leq cg(n) \\hspace{0.5cm} \\forall n \\geq n_0\\}\n",
    "$$\n",
    "\n",
    "La complejidad en tiempo y espacio de Fibonacci Recursivo es:\n",
    " $$\n",
    " O(\\phi^n)\n",
    " $$\n",
    " Mientras que Fibonacci iterativo la complejidad en tiempo es:\n",
    " $$\n",
    " O(n)\n",
    " $$\n",
    " Y en espacio es $O(1)$"
   ]
  },
  {
   "cell_type": "code",
   "execution_count": 10,
   "metadata": {},
   "outputs": [],
   "source": [
    "import numpy as np\n",
    "from time import time\n",
    "import pylab as pb"
   ]
  },
  {
   "cell_type": "code",
   "execution_count": 15,
   "metadata": {},
   "outputs": [],
   "source": [
    "def fiboRecursivo(n):\n",
    "    if n==0:\n",
    "        return 0 \n",
    "    elif n==1:\n",
    "        return 1\n",
    "    else:\n",
    "        return fiboRecursivo(n-1)+fiboRecursivo(n-2)"
   ]
  },
  {
   "cell_type": "code",
   "execution_count": 16,
   "metadata": {},
   "outputs": [],
   "source": [
    "def fiboIterativo(n):\n",
    "    if n==0:\n",
    "        return 0\n",
    "    elif n==1:\n",
    "        return 1\n",
    "    else:\n",
    "        f2,f1=1,0\n",
    "        for i in range(1,n,1):\n",
    "            f2,f1,=f2+f1,f2\n",
    "        return f2      "
   ]
  },
  {
   "cell_type": "code",
   "execution_count": 17,
   "metadata": {},
   "outputs": [],
   "source": [
    "timeFR=[]\n",
    "timeFI=[]\n",
    "def On(funct,lista,n):\n",
    "    for i in range(n):\n",
    "        t_ini=time()*1000.0 #time() devuelve el tiempo en segundos desde el epoch multplicamos por 1000 \n",
    "        #para obtener el tiempo en milisegundos \n",
    "        funct(i)\n",
    "        t_fin=time()*1000.0\n",
    "        t_total=t_fin-t_ini\n",
    "        lista.append(t_total)\n",
    "    return t_total\n",
    "n=40"
   ]
  },
  {
   "cell_type": "code",
   "execution_count": 18,
   "metadata": {},
   "outputs": [
    {
     "data": {
      "text/plain": [
       "49717.06982421875"
      ]
     },
     "execution_count": 18,
     "metadata": {},
     "output_type": "execute_result"
    }
   ],
   "source": [
    "On(fiboRecursivo,timeFR,n)"
   ]
  },
  {
   "cell_type": "code",
   "execution_count": 19,
   "metadata": {},
   "outputs": [
    {
     "data": {
      "text/plain": [
       "0.0"
      ]
     },
     "execution_count": 19,
     "metadata": {},
     "output_type": "execute_result"
    }
   ],
   "source": [
    "On(fiboIterativo,timeFI,n)"
   ]
  },
  {
   "cell_type": "code",
   "execution_count": 20,
   "metadata": {},
   "outputs": [
    {
     "data": {
      "text/plain": [
       "<matplotlib.legend.Legend at 0x1c234c77710>"
      ]
     },
     "execution_count": 20,
     "metadata": {},
     "output_type": "execute_result"
    },
    {
     "data": {
      "image/png": "[encoded data removed]",
      "text/plain": [
       "<Figure size 432x288 with 1 Axes>"
      ]
     },
     "metadata": {},
     "output_type": "display_data"
    }
   ],
   "source": [
    "n=[i for i in range(40)]\n",
    "pb.title('Complejidad en tiempo')\n",
    "pb.xlabel('n')\n",
    "pb.ylabel('Tiempo de ejecución')\n",
    "pb.plot(n,timeFR,label='Alg recursivo')\n",
    "pb.plot(n,timeFI,label='Alg iterativo')\n",
    "pb.legend()"
   ]
  }
 ],
 "metadata": {
  "kernelspec": {
   "display_name": "Python 3",
   "language": "python",
   "name": "python3"
  }
 },
 "nbformat": 4,
 "nbformat_minor": 2
}
