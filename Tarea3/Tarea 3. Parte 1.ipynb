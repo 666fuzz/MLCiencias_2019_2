{
 "cells": [
  {
   "cell_type": "markdown",
   "metadata": {},
   "source": [
    "### Tarea 3 Parte 1"
   ]
  },
  {
   "cell_type": "markdown",
   "metadata": {},
   "source": [
    "1. Clasifique los datos de Spam usando SVM.\n",
    "2. Clasifique los datos de iris, usando las diferentes implementaciones de SVM; SVC y  LinearSVC, pruebe con diferentes kernel, polinomial grado 3, linear, rbf=$\\gamma||x-x'||^2$ el parametro $\\gamma=0.9$, la manera en la que se especifica esto es SVC(kernel='rbf',gamma=0.9) . Grafique\n",
    "3. Clasifique los datos de credito de estudiantes usando un SVM con una muestra de entrenamiento de $70\\%$ compare con la regresión logística.\n",
    "4. Se anexa el problema 4 en un pdf, la implementación la deberá hacer en python."
   ]
  }
 ],
 "metadata": {
  "kernelspec": {
   "display_name": "Python 3",
   "language": "python",
   "name": "python3"
  },
  "language_info": {
   "codemirror_mode": {
    "name": "ipython",
    "version": 3
   },
   "file_extension": ".py",
   "mimetype": "text/x-python",
   "name": "python",
   "nbconvert_exporter": "python",
   "pygments_lexer": "ipython3",
   "version": "3.6.4"
  }
 },
 "nbformat": 4,
 "nbformat_minor": 2
}
