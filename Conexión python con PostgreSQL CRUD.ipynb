{
 "cells": [
  {
   "cell_type": "markdown",
   "metadata": {},
   "source": [
    "Primero debes instalar psycopg2 con el comando \n",
    "\n",
    "1. pip install psycopg2\n",
    "\n",
    "el conector de python a postgres y luego abrir pgadmin y crear una base de datos con el comando:\n",
    "\n",
    "2. create database datasts \n"
   ]
  },
  {
   "cell_type": "code",
   "execution_count": 133,
   "metadata": {},
   "outputs": [],
   "source": [
    "import psycopg2 as ps"
   ]
  },
  {
   "cell_type": "code",
   "execution_count": 170,
   "metadata": {},
   "outputs": [
    {
     "data": {
      "text/plain": [
       "<cursor object at 0x000002A5D074E2E8; closed: 0>"
      ]
     },
     "execution_count": 170,
     "metadata": {},
     "output_type": "execute_result"
    }
   ],
   "source": [
    "#establecemos conexión \n",
    "con=ps.connect(dbname='datasets',user='postgres',password='admin',host='localhost',port=5433)\n",
    "cursor = con.cursor()#Allows Python code to execute PostgreSQL command in a database session\n",
    "cursor  "
   ]
  },
  {
   "cell_type": "markdown",
   "metadata": {},
   "source": [
    "#### Create; creamos la base de datos"
   ]
  },
  {
   "cell_type": "code",
   "execution_count": 142,
   "metadata": {},
   "outputs": [],
   "source": [
    "sql0=\"\"\"create table alumno(id serial primary key, nombre varchar(50)\n",
    "not null,apellido varchar(60) default null);\"\"\"  "
   ]
  },
  {
   "cell_type": "markdown",
   "metadata": {},
   "source": [
    "#### Insertamos los primeros registros"
   ]
  },
  {
   "cell_type": "code",
   "execution_count": 137,
   "metadata": {},
   "outputs": [],
   "source": [
    "sql1=\"\"\"insert into alumno(nombre,apellido) values('juan','perez jolote');\"\"\"\n",
    "sql2=\"\"\"insert into alumno(nombre) values('juanito2');\"\"\""
   ]
  },
  {
   "cell_type": "code",
   "execution_count": 143,
   "metadata": {},
   "outputs": [],
   "source": [
    "sql=[sql0,sql1,sql2]"
   ]
  },
  {
   "cell_type": "code",
   "execution_count": 139,
   "metadata": {},
   "outputs": [],
   "source": [
    "for i in sql:\n",
    "    cursor.execute(i)\n",
    "    con.commit() ## hacemos un commint para que los cambios se vean reflejados en la base de datos"
   ]
  },
  {
   "cell_type": "markdown",
   "metadata": {},
   "source": [
    "#### consultamos los cambios"
   ]
  },
  {
   "cell_type": "code",
   "execution_count": 172,
   "metadata": {},
   "outputs": [],
   "source": [
    "sql3=\"select count(*) from alumno;\""
   ]
  },
  {
   "cell_type": "code",
   "execution_count": 173,
   "metadata": {},
   "outputs": [
    {
     "data": {
      "text/plain": [
       "4"
      ]
     },
     "execution_count": 173,
     "metadata": {},
     "output_type": "execute_result"
    }
   ],
   "source": [
    "cursor.execute(sql3)\n",
    "cursor.fetchone()[0] #numero de registros"
   ]
  },
  {
   "cell_type": "markdown",
   "metadata": {},
   "source": [
    "#### Actualizamos el registro numero 2"
   ]
  },
  {
   "cell_type": "code",
   "execution_count": 114,
   "metadata": {},
   "outputs": [],
   "source": [
    "sql4=\"\"\"update alumno set apellido='Gomez' where id=2\""
   ]
  },
  {
   "cell_type": "code",
   "execution_count": 125,
   "metadata": {},
   "outputs": [],
   "source": [
    "cursor.execute(sql4)\n",
    "con.commit()"
   ]
  },
  {
   "cell_type": "markdown",
   "metadata": {},
   "source": [
    "#### Eliminamos el registro numero 2"
   ]
  },
  {
   "cell_type": "code",
   "execution_count": 171,
   "metadata": {},
   "outputs": [],
   "source": [
    "sql5=\"\"\"DELETE FROM alumno WHERE id=2\"\"\"\n",
    "cursor.execute(sql5)\n",
    "con.commit()"
   ]
  },
  {
   "cell_type": "code",
   "execution_count": null,
   "metadata": {},
   "outputs": [],
   "source": [
    "### Creamos la tabla DELITOS "
   ]
  },
  {
   "cell_type": "code",
   "execution_count": 118,
   "metadata": {},
   "outputs": [],
   "source": [
    "sql6=\"\"\"\n",
    "create table delitos(\n",
    "id serial primary key,\n",
    "anio integer default null,\n",
    "mes integer default null,\n",
    "fechainicio timestamp default null,\n",
    "alcaldia varchar(100) default null,\n",
    "catdelito varchar(100) default null,\n",
    "delito varchar(100) default null,\n",
    "catdelitoibn varchar(100) default null,\n",
    "delitoibn varchar(100) default null,\n",
    "agencia varchar(100) default null,\n",
    "uinvestigacion varchar(100) default null,\n",
    "fiscalia varchar(100) default null,\n",
    "calle varchar(250) default null,\n",
    "colonia varchar(100) default null,\n",
    "latitud real  not null,\n",
    "longitud real not null,\n",
    "peso real default null,\n",
    "edad real default null,\n",
    "estatura real default null\n",
    ");\n",
    "\"\"\""
   ]
  },
  {
   "cell_type": "code",
   "execution_count": 61,
   "metadata": {},
   "outputs": [],
   "source": [
    "cursor.execute(sql6)\n",
    "con.commit()"
   ]
  },
  {
   "cell_type": "markdown",
   "metadata": {},
   "source": [
    "##### insertamos datos desde el csv, recuerde en ubicar su csv en el directorio tmp en linux y unix, \n",
    "##### el backlash es invertido "
   ]
  },
  {
   "cell_type": "code",
   "execution_count": null,
   "metadata": {},
   "outputs": [],
   "source": [
    "sql7=\"\"\"copy delitos(anio,mes,fechainicio,alcaldia,\n",
    "catdelito,delito,catdelitoibn,delitoibn, agencia,uinvestigacion,fiscalia,calle,\n",
    "colonia,latitud,longitud,peso,edad,estatura) FROM '/tmp/datos.csv'  USING DELIMITERS ','\n",
    "CSV  encoding 'latin9'\"\"\""
   ]
  },
  {
   "cell_type": "code",
   "execution_count": null,
   "metadata": {},
   "outputs": [],
   "source": [
    "cursor.execute(sql7)\n",
    "con.commit()"
   ]
  },
  {
   "cell_type": "code",
   "execution_count": 38,
   "metadata": {},
   "outputs": [],
   "source": [
    "#Una simple consulta\n",
    "sql8=\"select edad, estatura, peso, catdelito from delitos where alcaldia='MILPA ALTA'\""
   ]
  },
  {
   "cell_type": "code",
   "execution_count": 47,
   "metadata": {},
   "outputs": [
    {
     "data": {
      "text/plain": [
       "[(27.0, 158.0, 98.0, 'DELITO DE BAJO IMPACTO'),\n",
       " (80.0, 176.0, 65.0, 'DELITO DE BAJO IMPACTO'),\n",
       " (85.0, 161.0, 105.0, 'DELITO DE BAJO IMPACTO'),\n",
       " (80.0, 169.0, 101.0, 'DELITO DE BAJO IMPACTO'),\n",
       " (69.0, 172.0, 82.0, 'DELITO DE BAJO IMPACTO'),\n",
       " (19.0, 178.0, 59.0, 'DELITO DE BAJO IMPACTO'),\n",
       " (60.0, 173.0, 69.0, 'DELITO DE BAJO IMPACTO')]"
      ]
     },
     "execution_count": 47,
     "metadata": {},
     "output_type": "execute_result"
    }
   ],
   "source": [
    "#imprimimos los primeros 7 registros\n",
    "cursor.fetchmany(7)"
   ]
  }
 ],
 "metadata": {
  "kernelspec": {
   "display_name": "Python 3",
   "language": "python",
   "name": "python3"
  },
  "language_info": {
   "codemirror_mode": {
    "name": "ipython",
    "version": 3
   },
   "file_extension": ".py",
   "mimetype": "text/x-python",
   "name": "python",
   "nbconvert_exporter": "python",
   "pygments_lexer": "ipython3",
   "version": "3.6.4"
  }
 },
 "nbformat": 4,
 "nbformat_minor": 2
}
