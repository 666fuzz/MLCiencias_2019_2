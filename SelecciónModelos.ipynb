{
 "cells": [
  {
   "cell_type": "code",
   "execution_count": 128,
   "metadata": {},
   "outputs": [],
   "source": [
    "import statsmodels.api as sm\n",
    "import urllib.request as url\n",
    "import pandas as pd\n",
    "import numpy as np"
   ]
  },
  {
   "cell_type": "code",
   "execution_count": 129,
   "metadata": {},
   "outputs": [
    {
     "data": {
      "text/html": [
       "<div>\n",
       "<style scoped>\n",
       "    .dataframe tbody tr th:only-of-type {\n",
       "        vertical-align: middle;\n",
       "    }\n",
       "\n",
       "    .dataframe tbody tr th {\n",
       "        vertical-align: top;\n",
       "    }\n",
       "\n",
       "    .dataframe thead th {\n",
       "        text-align: right;\n",
       "    }\n",
       "</style>\n",
       "<table border=\"1\" class=\"dataframe\">\n",
       "  <thead>\n",
       "    <tr style=\"text-align: right;\">\n",
       "      <th></th>\n",
       "      <th>y</th>\n",
       "      <th>M</th>\n",
       "      <th>So</th>\n",
       "      <th>Ed</th>\n",
       "      <th>Po1</th>\n",
       "      <th>LF</th>\n",
       "      <th>M.F</th>\n",
       "      <th>Pop</th>\n",
       "      <th>U1</th>\n",
       "      <th>U2</th>\n",
       "      <th>GDP</th>\n",
       "    </tr>\n",
       "  </thead>\n",
       "  <tbody>\n",
       "    <tr>\n",
       "      <th>0</th>\n",
       "      <td>79.1</td>\n",
       "      <td>151</td>\n",
       "      <td>1</td>\n",
       "      <td>9.1</td>\n",
       "      <td>58</td>\n",
       "      <td>510</td>\n",
       "      <td>950</td>\n",
       "      <td>33</td>\n",
       "      <td>108</td>\n",
       "      <td>41</td>\n",
       "      <td>394</td>\n",
       "    </tr>\n",
       "    <tr>\n",
       "      <th>1</th>\n",
       "      <td>163.5</td>\n",
       "      <td>143</td>\n",
       "      <td>0</td>\n",
       "      <td>11.3</td>\n",
       "      <td>103</td>\n",
       "      <td>583</td>\n",
       "      <td>1012</td>\n",
       "      <td>13</td>\n",
       "      <td>96</td>\n",
       "      <td>36</td>\n",
       "      <td>557</td>\n",
       "    </tr>\n",
       "    <tr>\n",
       "      <th>2</th>\n",
       "      <td>57.8</td>\n",
       "      <td>142</td>\n",
       "      <td>1</td>\n",
       "      <td>8.9</td>\n",
       "      <td>45</td>\n",
       "      <td>533</td>\n",
       "      <td>969</td>\n",
       "      <td>18</td>\n",
       "      <td>94</td>\n",
       "      <td>33</td>\n",
       "      <td>318</td>\n",
       "    </tr>\n",
       "  </tbody>\n",
       "</table>\n",
       "</div>"
      ],
      "text/plain": [
       "       y    M  So    Ed  Po1   LF   M.F  Pop   U1  U2  GDP\n",
       "0   79.1  151   1   9.1   58  510   950   33  108  41  394\n",
       "1  163.5  143   0  11.3  103  583  1012   13   96  36  557\n",
       "2   57.8  142   1   8.9   45  533   969   18   94  33  318"
      ]
     },
     "execution_count": 129,
     "metadata": {},
     "output_type": "execute_result"
    }
   ],
   "source": [
    "data=pd.read_csv('crime.csv',sep=',',header=0)\n",
    "data.iloc[:3,]"
   ]
  },
  {
   "cell_type": "code",
   "execution_count": 130,
   "metadata": {},
   "outputs": [],
   "source": [
    "X=data.iloc[:,1:11]\n",
    "y=data.iloc[:,0]\n",
    "XC=sm.add_constant(X)"
   ]
  },
  {
   "cell_type": "code",
   "execution_count": 131,
   "metadata": {},
   "outputs": [
    {
     "name": "stdout",
     "output_type": "stream",
     "text": [
      "                            OLS Regression Results                            \n",
      "==============================================================================\n",
      "Dep. Variable:                      y   R-squared:                       0.684\n",
      "Model:                            OLS   Adj. R-squared:                  0.597\n",
      "Method:                 Least Squares   F-statistic:                     7.809\n",
      "Date:                Fri, 22 Feb 2019   Prob (F-statistic):           1.70e-06\n",
      "Time:                        11:24:14   Log-Likelihood:                -210.87\n",
      "No. Observations:                  47   AIC:                             443.7\n",
      "Df Residuals:                      36   BIC:                             464.1\n",
      "Df Model:                          10                                         \n",
      "Covariance Type:            nonrobust                                         \n",
      "==============================================================================\n",
      "                 coef    std err          t      P>|t|      [0.025      0.975]\n",
      "------------------------------------------------------------------------------\n",
      "const       -589.3999    167.591     -3.517      0.001    -929.289    -249.510\n",
      "M              1.0406      0.446      2.331      0.025       0.135       1.946\n",
      "So            11.2946     13.245      0.853      0.399     -15.568      38.157\n",
      "Ed            11.7794      6.818      1.728      0.093      -2.048      25.607\n",
      "Po1            0.9636      0.250      3.862      0.000       0.458       1.470\n",
      "LF             0.1060      0.153      0.692      0.493      -0.205       0.417\n",
      "M.F            0.3035      0.223      1.363      0.181      -0.148       0.755\n",
      "Pop            0.0904      0.139      0.652      0.518      -0.191       0.372\n",
      "U1            -0.6818      0.481     -1.418      0.165      -1.657       0.293\n",
      "U2             2.1503      0.951      2.262      0.030       0.222       4.079\n",
      "GDP           -0.0831      0.091     -0.913      0.367      -0.268       0.101\n",
      "==============================================================================\n",
      "Omnibus:                        1.885   Durbin-Watson:                   1.776\n",
      "Prob(Omnibus):                  0.390   Jarque-Bera (JB):                1.249\n",
      "Skew:                           0.392   Prob(JB):                        0.535\n",
      "Kurtosis:                       3.154   Cond. No.                     5.92e+04\n",
      "==============================================================================\n",
      "\n",
      "Warnings:\n",
      "[1] Standard Errors assume that the covariance matrix of the errors is correctly specified.\n",
      "[2] The condition number is large, 5.92e+04. This might indicate that there are\n",
      "strong multicollinearity or other numerical problems.\n"
     ]
    }
   ],
   "source": [
    "model=sm.OLS(y,XC).fit()\n",
    "print(model.summary())"
   ]
  },
  {
   "cell_type": "code",
   "execution_count": 132,
   "metadata": {},
   "outputs": [],
   "source": [
    "Xm={}\n",
    "for i in XC.columns[1:]:\n",
    "    Xm[i]=XC.drop([i],axis=1)"
   ]
  },
  {
   "cell_type": "code",
   "execution_count": 133,
   "metadata": {},
   "outputs": [],
   "source": [
    "AIC=[]\n",
    "errores=[]\n",
    "BIC=[]\n",
    "for i in Xm:\n",
    "    model=sm.OLS(y,Xm[i]).fit()\n",
    "    yp=model.predict(Xm[i])\n",
    "    errores.append(sum([(y[i]-yp[i])**2 for i in range(len(y))]))\n",
    "    BIC.append(model.bic)\n",
    "    AIC.append(model.aic)"
   ]
  },
  {
   "cell_type": "code",
   "execution_count": 134,
   "metadata": {},
   "outputs": [
    {
     "data": {
      "text/html": [
       "<div>\n",
       "<style scoped>\n",
       "    .dataframe tbody tr th:only-of-type {\n",
       "        vertical-align: middle;\n",
       "    }\n",
       "\n",
       "    .dataframe tbody tr th {\n",
       "        vertical-align: top;\n",
       "    }\n",
       "\n",
       "    .dataframe thead th {\n",
       "        text-align: right;\n",
       "    }\n",
       "</style>\n",
       "<table border=\"1\" class=\"dataframe\">\n",
       "  <thead>\n",
       "    <tr style=\"text-align: right;\">\n",
       "      <th></th>\n",
       "      <th>M</th>\n",
       "      <th>So</th>\n",
       "      <th>Ed</th>\n",
       "      <th>Po1</th>\n",
       "      <th>LF</th>\n",
       "      <th>M.F</th>\n",
       "      <th>Pop</th>\n",
       "      <th>U1</th>\n",
       "      <th>U2</th>\n",
       "      <th>GDP</th>\n",
       "    </tr>\n",
       "  </thead>\n",
       "  <tbody>\n",
       "    <tr>\n",
       "      <th>AIC</th>\n",
       "      <td>448.354878</td>\n",
       "      <td>442.687382</td>\n",
       "      <td>445.491188</td>\n",
       "      <td>458.035979</td>\n",
       "      <td>442.368287</td>\n",
       "      <td>444.112441</td>\n",
       "      <td>442.299359</td>\n",
       "      <td>444.302092</td>\n",
       "      <td>447.991443</td>\n",
       "      <td>442.823744</td>\n",
       "    </tr>\n",
       "    <tr>\n",
       "      <th>BIC</th>\n",
       "      <td>466.856354</td>\n",
       "      <td>461.188858</td>\n",
       "      <td>463.992664</td>\n",
       "      <td>476.537455</td>\n",
       "      <td>460.869763</td>\n",
       "      <td>462.613917</td>\n",
       "      <td>460.800835</td>\n",
       "      <td>462.803568</td>\n",
       "      <td>466.492919</td>\n",
       "      <td>461.325220</td>\n",
       "    </tr>\n",
       "    <tr>\n",
       "      <th>errores</th>\n",
       "      <td>24989.327401</td>\n",
       "      <td>22150.583017</td>\n",
       "      <td>23512.195850</td>\n",
       "      <td>30705.128861</td>\n",
       "      <td>22000.706221</td>\n",
       "      <td>22832.483175</td>\n",
       "      <td>21968.464477</td>\n",
       "      <td>22924.800942</td>\n",
       "      <td>24796.838739</td>\n",
       "      <td>22214.941891</td>\n",
       "    </tr>\n",
       "  </tbody>\n",
       "</table>\n",
       "</div>"
      ],
      "text/plain": [
       "                    M            So            Ed           Po1            LF  \\\n",
       "AIC        448.354878    442.687382    445.491188    458.035979    442.368287   \n",
       "BIC        466.856354    461.188858    463.992664    476.537455    460.869763   \n",
       "errores  24989.327401  22150.583017  23512.195850  30705.128861  22000.706221   \n",
       "\n",
       "                  M.F           Pop            U1            U2           GDP  \n",
       "AIC        444.112441    442.299359    444.302092    447.991443    442.823744  \n",
       "BIC        462.613917    460.800835    462.803568    466.492919    461.325220  \n",
       "errores  22832.483175  21968.464477  22924.800942  24796.838739  22214.941891  "
      ]
     },
     "execution_count": 134,
     "metadata": {},
     "output_type": "execute_result"
    }
   ],
   "source": [
    "modelos = pd.DataFrame(np.array([AIC,BIC,errores]),columns=Xm.keys(),index=['AIC','BIC','errores'])\n",
    "modelos "
   ]
  },
  {
   "cell_type": "code",
   "execution_count": null,
   "metadata": {},
   "outputs": [],
   "source": []
  }
 ],
 "metadata": {
  "kernelspec": {
   "display_name": "Python 3",
   "language": "python",
   "name": "python3"
  },
  "language_info": {
   "codemirror_mode": {
    "name": "ipython",
    "version": 3
   },
   "file_extension": ".py",
   "mimetype": "text/x-python",
   "name": "python",
   "nbconvert_exporter": "python",
   "pygments_lexer": "ipython3",
   "version": "3.6.4"
  }
 },
 "nbformat": 4,
 "nbformat_minor": 2
}
